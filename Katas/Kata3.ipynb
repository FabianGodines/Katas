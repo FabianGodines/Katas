{
 "cells": [
  {
   "cell_type": "markdown",
   "metadata": {},
   "source": [
    "## Escribir declaraciones if, else, y elif"
   ]
  },
  {
   "cell_type": "markdown",
   "metadata": {},
   "source": [
    "# Problema 1"
   ]
  },
  {
   "cell_type": "code",
   "execution_count": 4,
   "metadata": {},
   "outputs": [
    {
     "name": "stdout",
     "output_type": "stream",
     "text": [
      "El planeta sera destruido\n"
     ]
    }
   ],
   "source": [
    "seguro = 25\n",
    "asteroide = 49\n",
    "\n",
    "if asteroide > seguro:\n",
    "    print(\"El planeta sera destruido\")\n",
    "else:\n",
    "    print(\"El planeta esta seguro\")"
   ]
  },
  {
   "cell_type": "markdown",
   "metadata": {},
   "source": [
    "# Problema 2"
   ]
  },
  {
   "cell_type": "code",
   "execution_count": 14,
   "metadata": {},
   "outputs": [
    {
     "name": "stdout",
     "output_type": "stream",
     "text": [
      "No hay ningun asteroide\n"
     ]
    }
   ],
   "source": [
    "asteroide = 19\n",
    "\n",
    "if asteroide >= 20:\n",
    "    print(\"Puedes observar el rayo de luz que produce el asteroide\")\n",
    "elif asteroide < 20 and asteroide >= 1:\n",
    "    print(\"No puedes observar el rayo de luz que produce el asteroide\")\n",
    "else:\n",
    "    print(\"No hay ningun asteroide\")"
   ]
  },
  {
   "cell_type": "markdown",
   "metadata": {},
   "source": [
    "# Problema 3"
   ]
  },
  {
   "cell_type": "code",
   "execution_count": 23,
   "metadata": {},
   "outputs": [
    {
     "name": "stdout",
     "output_type": "stream",
     "text": [
      "La tierra esta segura\n",
      "La tierra esta segura y podras ver un rayo de luz\n"
     ]
    }
   ],
   "source": [
    "dimension = 24\n",
    "velocidad = 26\n",
    "\n",
    "if dimension < 25:\n",
    "    print(\"La tierra esta segura\")\n",
    "    if velocidad > 20 and dimension < 25:\n",
    "        print(\"La tierra esta segura y podras ver un rayo de luz\")\n",
    "    elif velocidad < 20 and velocidad > 0:\n",
    "        print(\"La tierra esta segura y podras ver un rayo de luz\")\n",
    "    else:\n",
    "        print(\"La tierra no es segura\")\n",
    "else:\n",
    "    print(\"La tierra sufrira un gran daño\")\n",
    "        "
   ]
  }
 ],
 "metadata": {
  "interpreter": {
   "hash": "5d240ba0dc525c389faa33f5dcce5b4f32b6d6aa6d70d6d2dd929bd2b09ab69f"
  },
  "kernelspec": {
   "display_name": "Python 3.10.2 64-bit",
   "language": "python",
   "name": "python3"
  },
  "language_info": {
   "codemirror_mode": {
    "name": "ipython",
    "version": 3
   },
   "file_extension": ".py",
   "mimetype": "text/x-python",
   "name": "python",
   "nbconvert_exporter": "python",
   "pygments_lexer": "ipython3",
   "version": "3.10.2"
  },
  "orig_nbformat": 4
 },
 "nbformat": 4,
 "nbformat_minor": 2
}
