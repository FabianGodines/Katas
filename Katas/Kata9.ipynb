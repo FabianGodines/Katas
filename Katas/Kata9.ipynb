{
 "cells": [
  {
   "cell_type": "markdown",
   "metadata": {},
   "source": [
    "# Problema 1"
   ]
  },
  {
   "cell_type": "code",
   "execution_count": null,
   "metadata": {},
   "outputs": [],
   "source": [
    "def reporte(tanque_prin, tanque_ext, tanque_hidro):\n",
    "    prom_total = (tanque_prin + tanque_ext + tanque_hidro) / 3\n",
    "    return f\"\"\"Informe de combustible:\n",
    "    Promedio total: {prom_total}%\n",
    "    Tanque principal: {tanque_prin}%\n",
    "    Tanque externo: {tanque_ext}%\n",
    "    Tanque de Hidrogeno: {tanque_hidro}% \n",
    "    \"\"\"\n",
    "print(reporte(80, 70, 85))\n",
    " \n",
    "def promedio(valores):\n",
    "    total = sum(valores)\n",
    "    elementos = len(valores)\n",
    "    return total / elementos\n",
    "\n",
    "promedio([80, 85, 81]) \n",
    "\n",
    "def reporte(tanque_prin, tanque_ext, tanque_hidro):\n",
    "    return f\"\"\"Informe de combustible:\n",
    "    Promedio total: {promedio([tanque_prin, tanque_ext, tanque_hidro])}%\n",
    "    Tanque principal: {tanque_prin}%\n",
    "    Tanque externo: {tanque_ext}%\n",
    "    Tanque de Hidrogeno: {tanque_hidro}% \n",
    "    \"\"\"\n",
    "print(reporte(88, 76, 70))"
   ]
  },
  {
   "cell_type": "markdown",
   "metadata": {},
   "source": [
    "# Problema 2"
   ]
  },
  {
   "cell_type": "code",
   "execution_count": null,
   "metadata": {},
   "outputs": [],
   "source": [
    "def reporte(pre_lanz, tiempo_vuelo, destino, tanque_ext, tanque_prin):\n",
    "    return f\"\"\"\n",
    "    Mision a {destino}\n",
    "    Tiempo total de viaje: {pre_lanz + tiempo_vuelo} minutos\n",
    "    Combustible restante: {tanque_ext + tanque_prin} galones\n",
    "    \"\"\"\n",
    "\n",
    "print(reporte(14, 51, \"Luna\", 200000, 300000))\n",
    "\n",
    "\n",
    "def reporte(destino, *minutos, **reservas):\n",
    "    return f\"\"\"\n",
    "    Mision a {destino}\n",
    "    Tiempo total de viaje: {sum(minutos)} minutos\n",
    "    Combustible restante: {sum(reservas.values())}\n",
    "    \"\"\"\n",
    "\n",
    "print(reporte(\"Luna\", 10, 15, 51, principal=300000, externo=200000))\n",
    "\n",
    "\n",
    "def reporte(destino, *minutos, **reservas):\n",
    "    reporte_prin = f\"\"\"\n",
    "    Mision a {destino}\n",
    "    Tiempo total de viaje: {sum(minutos)} minutos\n",
    "    Combustible restante: {sum(reservas.values())}\n",
    "    \"\"\"\n",
    "    for nombre_tanque, galones in reservas.items():\n",
    "        reporte_prin += f\"{nombre_tanque} tanque --> {galones} galones restantes\\n\"\n",
    "    return reporte_prin\n",
    "\n",
    "print(reporte(\"Luna\", 8, 11, 55, principal=300000, externo=200000))"
   ]
  }
 ],
 "metadata": {
  "interpreter": {
   "hash": "5d240ba0dc525c389faa33f5dcce5b4f32b6d6aa6d70d6d2dd929bd2b09ab69f"
  },
  "kernelspec": {
   "display_name": "Python 3.10.2 64-bit",
   "language": "python",
   "name": "python3"
  },
  "language_info": {
   "codemirror_mode": {
    "name": "ipython",
    "version": 3
   },
   "file_extension": ".py",
   "mimetype": "text/x-python",
   "name": "python",
   "nbconvert_exporter": "python",
   "pygments_lexer": "ipython3",
   "version": "3.10.2"
  },
  "orig_nbformat": 4
 },
 "nbformat": 4,
 "nbformat_minor": 2
}
